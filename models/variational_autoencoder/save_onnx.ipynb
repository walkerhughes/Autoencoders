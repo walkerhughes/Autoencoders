{
 "cells": [
  {
   "cell_type": "code",
   "execution_count": 1,
   "metadata": {},
   "outputs": [],
   "source": [
    "import torch \n",
    "import torch.onnx \n",
    "from model import VAE \n",
    "from PIL import Image\n",
    "import numpy as np \n",
    "\n",
    "from utils import * "
   ]
  },
  {
   "cell_type": "code",
   "execution_count": 5,
   "metadata": {},
   "outputs": [],
   "source": [
    "image = np.array(Image.open('../../data/cryptopunks/imgs/0.png'))\n",
    "\n",
    "image_np = image.transpose(2, 0, 1)  \n",
    "\n",
    "image_tensor = torch.tensor(image_np, dtype=torch.float32)\n",
    "\n",
    "image_tensor = image_tensor.unsqueeze(0)  "
   ]
  },
  {
   "cell_type": "code",
   "execution_count": 6,
   "metadata": {},
   "outputs": [],
   "source": [
    "def save_as_onnx(pth_file = \"./variational_autoencoder.pth\", onnx_path = \"vae_model_10e.onnx\"): \n",
    "    model = VAE(4, 128, 64, 4)\n",
    "    model.load_state_dict(\n",
    "        torch.load(\n",
    "            pth_file, \n",
    "            map_location=torch.device('cpu')\n",
    "        )\n",
    "    )\n",
    "    model.eval() \n",
    "    torch.onnx.export(\n",
    "        model, \n",
    "        image_tensor, \n",
    "        onnx_path, \n",
    "        export_params=True, \n",
    "        opset_version=10, \n",
    "        do_constant_folding=True, \n",
    "        input_names=['input_name'], \n",
    "        output_names=['output_name']\n",
    "    )"
   ]
  },
  {
   "cell_type": "code",
   "execution_count": 7,
   "metadata": {},
   "outputs": [],
   "source": [
    "save_as_onnx(pth_file = \"./variational_autoencoder_10e.pth\", onnx_path = \"vae_model_10e.onnx\")\n",
    "save_as_onnx(pth_file = \"./variational_autoencoder_30e.pth\", onnx_path = \"vae_model_30e.onnx\")\n",
    "save_as_onnx(pth_file = \"./variational_autoencoder_50e.pth\", onnx_path = \"vae_model_50e.onnx\")"
   ]
  }
 ],
 "metadata": {
  "kernelspec": {
   "display_name": "venv",
   "language": "python",
   "name": "python3"
  },
  "language_info": {
   "codemirror_mode": {
    "name": "ipython",
    "version": 3
   },
   "file_extension": ".py",
   "mimetype": "text/x-python",
   "name": "python",
   "nbconvert_exporter": "python",
   "pygments_lexer": "ipython3",
   "version": "3.11.9"
  }
 },
 "nbformat": 4,
 "nbformat_minor": 2
}
