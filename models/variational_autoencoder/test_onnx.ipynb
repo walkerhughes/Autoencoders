{
 "cells": [
  {
   "cell_type": "code",
   "execution_count": 1,
   "metadata": {},
   "outputs": [],
   "source": [
    "import torch \n",
    "import numpy as np \n",
    "from model import VAE \n",
    "from PIL import Image \n",
    "import matplotlib.pyplot as plt \n",
    "import onnxruntime as ort"
   ]
  },
  {
   "cell_type": "code",
   "execution_count": 2,
   "metadata": {},
   "outputs": [],
   "source": [
    "def save_as_onnx(pth_file = \"./variational_autoencoder.pth\", onnx_path = \"vae_model_10e.onnx\"): \n",
    "    model = VAE(4, 128, 64, 4)\n",
    "    model.load_state_dict(\n",
    "        torch.load(\n",
    "            pth_file, \n",
    "            map_location=torch.device('cpu')\n",
    "        )\n",
    "    )\n",
    "    model.eval() \n",
    "\n",
    "    decoder = model.decoder \n",
    "    sample_tensor = torch.randn(1, model.latent_dim).to('cpu')\n",
    "\n",
    "    torch.onnx.export(\n",
    "        decoder, \n",
    "        sample_tensor, \n",
    "        onnx_path, \n",
    "        export_params=True, \n",
    "        opset_version=10, \n",
    "        do_constant_folding=True, \n",
    "        input_names=['input_name'], \n",
    "        output_names=['output_name']\n",
    "    )"
   ]
  },
  {
   "cell_type": "code",
   "execution_count": 3,
   "metadata": {},
   "outputs": [],
   "source": [
    "# save_as_onnx(pth_file = \"./pth_files/variational_autoencoder_10e.pth\", onnx_path = \"./onnx_files/decoder_model_10e.onnx\") \n",
    "# save_as_onnx(pth_file = \"./pth_files/variational_autoencoder_30e.pth\", onnx_path = \"./onnx_files/decoder_model_30e.onnx\") \n",
    "# save_as_onnx(pth_file = \"./pth_files/variational_autoencoder_50e.pth\", onnx_path = \"./onnx_files/decoder_model_50e.onnx\") "
   ]
  },
  {
   "cell_type": "code",
   "execution_count": 4,
   "metadata": {},
   "outputs": [],
   "source": [
    "def generate_latent_vectors(num_samples = 1, latent_dim = 64):\n",
    "    latent_vectors = torch.randn(num_samples, latent_dim)\n",
    "    return latent_vectors"
   ]
  },
  {
   "cell_type": "code",
   "execution_count": 13,
   "metadata": {},
   "outputs": [
    {
     "data": {
      "image/png": "[encoded data removed]",
      "text/plain": [
       "<Figure size 640x480 with 1 Axes>"
      ]
     },
     "metadata": {},
     "output_type": "display_data"
    }
   ],
   "source": [
    "model_path = './onnx_files/decoder_model_30e.onnx'\n",
    "ort_sess = ort.InferenceSession(model_path)\n",
    "latent_vectors = generate_latent_vectors()\n",
    "outputs = ort_sess.run(None, {'input_name': latent_vectors.detach().cpu().numpy()})\n",
    "plt.imshow(np.clip(outputs[0][0].transpose(1, 2, 0), 0, 1))\n",
    "plt.show()"
   ]
  },
  {
   "cell_type": "code",
   "execution_count": null,
   "metadata": {},
   "outputs": [],
   "source": [
    "plt.imshow(np.clip(outputs[0][0].transpose(1, 2, 0), 0, 1))\n",
    "plt.show()"
   ]
  }
 ],
 "metadata": {
  "kernelspec": {
   "display_name": "venv",
   "language": "python",
   "name": "python3"
  },
  "language_info": {
   "codemirror_mode": {
    "name": "ipython",
    "version": 3
   },
   "file_extension": ".py",
   "mimetype": "text/x-python",
   "name": "python",
   "nbconvert_exporter": "python",
   "pygments_lexer": "ipython3",
   "version": "3.11.9"
  }
 },
 "nbformat": 4,
 "nbformat_minor": 2
}
